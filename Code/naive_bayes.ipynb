{
 "cells": [
  {
   "cell_type": "code",
   "execution_count": 1,
   "metadata": {},
   "outputs": [],
   "source": [
    "import pandas as pd\n",
    "import numpy as np\n",
    "import seaborn as sns\n",
    "import matplotlib.pyplot as plt\n",
    "%matplotlib inline\n",
    "import sklearn\n",
    "\n",
    "\n",
    "from sklearn.naive_bayes import GaussianNB"
   ]
  },
  {
   "cell_type": "code",
   "execution_count": 312,
   "metadata": {},
   "outputs": [],
   "source": [
    "from sklearn.metrics import confusion_matrix, accuracy_score, roc_auc_score, roc_curve\n",
    "from sklearn.model_selection import train_test_split\n",
    "from sklearn.feature_selection import RFE\n",
    "import os\n",
    "\n",
    "from sklearn.preprocessing import LabelEncoder, MinMaxScaler"
   ]
  },
  {
   "cell_type": "code",
   "execution_count": 313,
   "metadata": {},
   "outputs": [],
   "source": [
    "depression_threshold = 4"
   ]
  },
  {
   "cell_type": "code",
   "execution_count": 314,
   "metadata": {},
   "outputs": [],
   "source": [
    "data = pd.read_csv('../Data/clean_df_engineering.csv')\n",
    "\n",
    "data.drop(['Course'], axis=1, inplace=True)\n",
    "\n",
    "features = ['Age', 'CGPA', 'Anxiety_Score', 'Semester_Credit_Load']\n",
    "target = 'Depression_Score'"
   ]
  },
  {
   "cell_type": "code",
   "execution_count": 315,
   "metadata": {},
   "outputs": [],
   "source": [
    "# Fitting and transforming y_train and y_test\n",
    "data['Depression_Score'] = data['Depression_Score'].apply(lambda x: 1 if x>depression_threshold else 0)\n",
    "y = data['Depression_Score']\n",
    "\n",
    "X = data[features]"
   ]
  },
  {
   "cell_type": "code",
   "execution_count": 316,
   "metadata": {},
   "outputs": [],
   "source": [
    "X_train, X_test, y_train, y_test = train_test_split(X, y, test_size=0.25, random_state=42)"
   ]
  },
  {
   "cell_type": "code",
   "execution_count": 317,
   "metadata": {},
   "outputs": [],
   "source": [
    "# Normalizing X\n",
    "min_max_scaler = MinMaxScaler()\n",
    "X_train = min_max_scaler.fit_transform(X_train)\n",
    "X_test = min_max_scaler.transform(X_test)"
   ]
  },
  {
   "cell_type": "code",
   "execution_count": 318,
   "metadata": {},
   "outputs": [
    {
     "name": "stdout",
     "output_type": "stream",
     "text": [
      "Accuracy of Naive Bayes : 0.88015\n"
     ]
    }
   ],
   "source": [
    "def assessment(model, title = \"Default\"):\n",
    "    model.fit(X_train, y_train)\n",
    "    preds = model.predict(X_test)\n",
    "    print('Accuracy of', title, ':', round(accuracy_score(y_test, preds), 5))\n",
    "\n",
    "# Naive Bayes\n",
    "nb = GaussianNB()\n",
    "assessment(nb, \"Naive Bayes\")"
   ]
  },
  {
   "cell_type": "markdown",
   "metadata": {},
   "source": [
    "K FOLD CROSS VALIDATION"
   ]
  },
  {
   "cell_type": "code",
   "execution_count": 319,
   "metadata": {},
   "outputs": [],
   "source": [
    "from sklearn.model_selection import cross_val_score\n",
    "\n",
    "data = pd.read_csv('../Data/clean_df_engineering.csv')\n",
    "\n",
    "data.drop(['Course'], axis=1, inplace=True)\n",
    "\n",
    "features = ['Age', 'CGPA', 'Anxiety_Score', 'Semester_Credit_Load']\n",
    "target = 'Depression_Score'"
   ]
  },
  {
   "cell_type": "code",
   "execution_count": 320,
   "metadata": {},
   "outputs": [],
   "source": [
    "# Apply threshold to the Depression_Score to convert to binary (1 for depression, 0 for no depression)\n",
    "depression_threshold = 4\n",
    "data['Depression_Score'] = data['Depression_Score'].apply(lambda x: 1 if x > depression_threshold else 0)"
   ]
  },
  {
   "cell_type": "code",
   "execution_count": 321,
   "metadata": {},
   "outputs": [],
   "source": [
    "# Define X and y\n",
    "X = data[features]\n",
    "y = data[target]"
   ]
  },
  {
   "cell_type": "code",
   "execution_count": 322,
   "metadata": {},
   "outputs": [],
   "source": [
    "# Convert features to numeric and handle missing values\n",
    "X = X.apply(pd.to_numeric, errors='coerce')\n",
    "X = X.dropna()  \n",
    "y = y[X.index]  "
   ]
  },
  {
   "cell_type": "code",
   "execution_count": 323,
   "metadata": {},
   "outputs": [],
   "source": [
    "# Initialize Naive Bayes model\n",
    "nb = GaussianNB()"
   ]
  },
  {
   "cell_type": "code",
   "execution_count": 324,
   "metadata": {},
   "outputs": [],
   "source": [
    "# Perform K-Fold Cross Validation (e.g., 5 folds)\n",
    "cross_val_scores = cross_val_score(nb, X, y, cv=5 , scoring='accuracy')"
   ]
  },
  {
   "cell_type": "code",
   "execution_count": 325,
   "metadata": {},
   "outputs": [
    {
     "name": "stdout",
     "output_type": "stream",
     "text": [
      "Average Accuracy from 10-Fold Cross Validation: 0.90722\n",
      "Fold Scores: [0.90654206 0.90654206 0.91079812 0.90610329 0.90610329]\n"
     ]
    }
   ],
   "source": [
    "# Print the average accuracy from K-Fold Cross Validation\n",
    "print(f'Average Accuracy from 10-Fold Cross Validation: {round(np.mean(cross_val_scores), 5)}')\n",
    "print(f'Fold Scores: {cross_val_scores}')"
   ]
  },
  {
   "cell_type": "code",
   "execution_count": 326,
   "metadata": {},
   "outputs": [
    {
     "name": "stdout",
     "output_type": "stream",
     "text": [
      "Fitting 5 folds for each of 5 candidates, totalling 25 fits\n",
      "Best hyperparameters: {'var_smoothing': 1e-09}\n",
      "Best cross-validation accuracy: 0.91625\n",
      "Test set accuracy with best hyperparameters: 0.8801498127340824\n"
     ]
    }
   ],
   "source": [
    "from sklearn.model_selection import GridSearchCV\n",
    "\n",
    "param_grid = {\n",
    "    'var_smoothing': [1e-9, 1e-8, 1e-7, 1e-6, 1e-5]  # The Gaussian Naive Bayes hyperparameter for smoothing???\n",
    "}\n",
    "\n",
    "grid_search = GridSearchCV(estimator=nb, param_grid=param_grid, \n",
    "                           scoring='accuracy', cv=5, n_jobs=-1, verbose=1)\n",
    "\n",
    "grid_search.fit(X_train, y_train)\n",
    "\n",
    "print(\"Best hyperparameters:\", grid_search.best_params_)\n",
    "print(\"Best cross-validation accuracy:\", grid_search.best_score_)\n",
    "\n",
    "best_model = grid_search.best_estimator_\n",
    "\n",
    "y_pred = best_model.predict(X_test)\n",
    "print(\"Test set accuracy with best hyperparameters:\", accuracy_score(y_test, y_pred))"
   ]
  },
  {
   "cell_type": "markdown",
   "metadata": {},
   "source": [
    "STRATIFIED K FOLD CROSS VALIDATION"
   ]
  },
  {
   "cell_type": "code",
   "execution_count": 327,
   "metadata": {},
   "outputs": [
    {
     "name": "stdout",
     "output_type": "stream",
     "text": [
      "Fitting 5 folds for each of 7 candidates, totalling 35 fits\n"
     ]
    },
    {
     "name": "stdout",
     "output_type": "stream",
     "text": [
      "Best hyperparameters: {'var_smoothing': 1e-09}\n",
      "Best cross-validation accuracy: 0.9072177613970427\n",
      "Test set accuracy with best hyperparameters: 0.9072164948453608\n"
     ]
    }
   ],
   "source": [
    "from sklearn.model_selection import StratifiedKFold, GridSearchCV\n",
    "# Set up Stratified K-Fold cross-validation\n",
    "skf = StratifiedKFold(n_splits=5)  \n",
    "\n",
    "# Define the parameter grid for hyperparameter tuning (var_smoothing)\n",
    "param_grid = {\n",
    "    'var_smoothing': [1e-9, 1e-8, 1e-7, 1e-6, 1e-5, 1e-4, 1e-3]\n",
    "}\n",
    "\n",
    "# Set up GridSearchCV with StratifiedKFold cross-validation\n",
    "grid_search = GridSearchCV(estimator=nb, param_grid=param_grid, \n",
    "                           scoring='accuracy', cv=skf, n_jobs=-1, verbose=1)\n",
    "\n",
    "# Perform GridSearchCV with cross-validation\n",
    "grid_search.fit(X, y)\n",
    "\n",
    "# Print the best hyperparameters and the best cross-validation score\n",
    "print(\"Best hyperparameters:\", grid_search.best_params_)\n",
    "print(\"Best cross-validation accuracy:\", grid_search.best_score_)\n",
    "\n",
    "# Get the best model from the grid search\n",
    "best_model = grid_search.best_estimator_\n",
    "\n",
    "y_pred = best_model.predict(X)  \n",
    "print(\"Test set accuracy with best hyperparameters:\", accuracy_score(y, y_pred))\n",
    "\n"
   ]
  },
  {
   "cell_type": "code",
   "execution_count": null,
   "metadata": {},
   "outputs": [],
   "source": []
  }
 ],
 "metadata": {
  "kernelspec": {
   "display_name": "Python 3",
   "language": "python",
   "name": "python3"
  },
  "language_info": {
   "codemirror_mode": {
    "name": "ipython",
    "version": 3
   },
   "file_extension": ".py",
   "mimetype": "text/x-python",
   "name": "python",
   "nbconvert_exporter": "python",
   "pygments_lexer": "ipython3",
   "version": "3.11.4"
  }
 },
 "nbformat": 4,
 "nbformat_minor": 2
}

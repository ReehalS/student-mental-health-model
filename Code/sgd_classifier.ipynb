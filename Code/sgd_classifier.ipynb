{
 "cells": [
  {
   "cell_type": "code",
   "execution_count": 10,
   "metadata": {},
   "outputs": [],
   "source": [
    "import pandas as pd\n",
    "from sklearn.preprocessing import MinMaxScaler\n",
    "from sklearn.model_selection import GridSearchCV\n",
    "from sklearn.linear_model import SGDClassifier\n",
    "from sklearn.model_selection import train_test_split\n",
    "from sklearn.metrics import accuracy_score"
   ]
  },
  {
   "cell_type": "code",
   "execution_count": 15,
   "metadata": {},
   "outputs": [
    {
     "name": "stdout",
     "output_type": "stream",
     "text": [
      "Major:  business\n",
      "Best parameters found:  {'alpha': 0.0001, 'eta0': 0.01, 'learning_rate': 'constant', 'loss': 'hinge', 'max_iter': 1000, 'penalty': 'l2'}\n",
      "Best cross-validation accuracy:  0.8933638443935926\n",
      "Test set accuracy:  0.9020979020979021\n",
      "\n",
      "Major:  compsci\n",
      "Best parameters found:  {'alpha': 0.0001, 'eta0': 0.01, 'learning_rate': 'constant', 'loss': 'hinge', 'max_iter': 1000, 'penalty': 'l2'}\n",
      "Best cross-validation accuracy:  0.747860242406105\n",
      "Test set accuracy:  0.7170731707317073\n",
      "\n",
      "Major:  engineering\n",
      "Best parameters found:  {'alpha': 0.0001, 'eta0': 0.01, 'learning_rate': 'constant', 'loss': 'hinge', 'max_iter': 1000, 'penalty': 'l2'}\n",
      "Best cross-validation accuracy:  0.9155968352253181\n",
      "Test set accuracy:  0.8738317757009346\n",
      "\n",
      "Major:  law\n",
      "Best parameters found:  {'alpha': 0.0001, 'eta0': 0.01, 'learning_rate': 'constant', 'loss': 'hinge', 'max_iter': 1000, 'penalty': 'l2'}\n",
      "Best cross-validation accuracy:  0.9021760592348829\n",
      "Test set accuracy:  0.9097472924187726\n",
      "\n",
      "Major:  medical\n",
      "Best parameters found:  {'alpha': 0.0001, 'eta0': 0.01, 'learning_rate': 'constant', 'loss': 'perceptron', 'max_iter': 1000, 'penalty': 'l2'}\n",
      "Best cross-validation accuracy:  0.9116950959488272\n",
      "Test set accuracy:  0.8857142857142857\n",
      "\n",
      "Major:  others\n",
      "Best parameters found:  {'alpha': 0.0001, 'eta0': 0.01, 'learning_rate': 'constant', 'loss': 'hinge', 'max_iter': 1000, 'penalty': 'l2'}\n",
      "Best cross-validation accuracy:  0.8931807780320365\n",
      "Test set accuracy:  0.916083916083916\n",
      "\n"
     ]
    }
   ],
   "source": [
    "features = ['Age', 'CGPA', 'Semester_Credit_Load', 'Anxiety_Score', 'Financial_Stress', 'Stress_Level']\n",
    "majors = ['business','compsci','engineering','law','medical','others']\n",
    "depression_threshold = 4\n",
    "\n",
    "for major in majors:\n",
    "    print(\"Major: \", major)\n",
    "    data = pd.read_csv(f'../Data/clean_df_{major}.csv')\n",
    "    data.drop(['Course'], axis=1, inplace=True)\n",
    "    data['Depression_Score'] = data['Depression_Score'].apply(lambda x: 1 if x > depression_threshold else 0)\n",
    "\n",
    "    X = data[features]\n",
    "    y = data['Depression_Score']\n",
    "\n",
    "    # Split data into training and testing sets\n",
    "    X_train, X_test, y_train, y_test = train_test_split(X, y, test_size=0.2, random_state=42)\n",
    "\n",
    "    scaler = MinMaxScaler()\n",
    "    X_train = scaler.fit_transform(X_train)\n",
    "    X_test = scaler.transform(X_test)\n",
    "\n",
    "    # Define the SGDClassifier\n",
    "    sgd = SGDClassifier(random_state=42)\n",
    "\n",
    "    # Define the hyperparameter grid to search over\n",
    "    param_grid = {\n",
    "        'loss': ['hinge', 'log_loss', 'squared_hinge', 'perceptron'],  # Types of loss functions\n",
    "        'penalty': ['l2', 'l1', 'elasticnet'],  # Regularization types\n",
    "        'alpha': [0.0001, 0.001, 0.01],  # Regularization strength\n",
    "        'learning_rate': ['constant', 'optimal', 'invscaling', 'adaptive'],  # Learning rate schedule\n",
    "        'eta0': [0.01, 0.1, 1.0],\n",
    "        'max_iter': [1000, 2000, 3000],  # Max iterations\n",
    "    }\n",
    "\n",
    "    # Create the GridSearchCV object\n",
    "    grid_search = GridSearchCV(estimator=sgd, param_grid=param_grid, cv=5, scoring='accuracy', n_jobs=-1)\n",
    "\n",
    "    # Fit the grid search\n",
    "    grid_search.fit(X_train, y_train)\n",
    "\n",
    "    # Print the best parameters and the corresponding score\n",
    "    print(\"Best parameters found: \", grid_search.best_params_)\n",
    "    print(\"Best cross-validation accuracy: \", grid_search.best_score_)\n",
    "\n",
    "    # Evaluate the best model on the test set\n",
    "    best_model = grid_search.best_estimator_\n",
    "    y_pred = best_model.predict(X_test)\n",
    "    print(\"Test set accuracy: \", accuracy_score(y_test, y_pred))\n",
    "    print()\n"
   ]
  },
  {
   "cell_type": "code",
   "execution_count": null,
   "metadata": {},
   "outputs": [],
   "source": []
  }
 ],
 "metadata": {
  "kernelspec": {
   "display_name": ".venv",
   "language": "python",
   "name": "python3"
  },
  "language_info": {
   "codemirror_mode": {
    "name": "ipython",
    "version": 3
   },
   "file_extension": ".py",
   "mimetype": "text/x-python",
   "name": "python",
   "nbconvert_exporter": "python",
   "pygments_lexer": "ipython3",
   "version": "3.12.6"
  }
 },
 "nbformat": 4,
 "nbformat_minor": 2
}

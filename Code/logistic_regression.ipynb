{
 "cells": [
  {
   "cell_type": "markdown",
   "metadata": {},
   "source": [
    "# Logistic Regression\n",
    "\n",
    "run grid search on Logistic regression with different thresholds."
   ]
  },
  {
   "cell_type": "code",
   "execution_count": 39,
   "metadata": {},
   "outputs": [],
   "source": [
    "from sklearn.model_selection import train_test_split, GridSearchCV, cross_val_score, KFold\n",
    "from sklearn.preprocessing import MinMaxScaler\n",
    "from sklearn.linear_model import LogisticRegression\n",
    "from sklearn.metrics import accuracy_score\n",
    "import pandas as pd\n",
    "\n",
    "\n",
    "import warnings\n",
    "warnings.filterwarnings('ignore')"
   ]
  },
  {
   "cell_type": "code",
   "execution_count": 40,
   "metadata": {},
   "outputs": [],
   "source": [
    "majors = ['main', 'business', 'compsci', 'engineering', 'law', 'medical', 'others']\n",
    "\n",
    "# List of columns to include in the analysis\n",
    "columns_to_include = [\n",
    "    'Age', 'CGPA', 'Stress_Level', 'Depression_Score', \n",
    "    'Anxiety_Score', 'Financial_Stress', 'Semester_Credit_Load'\n",
    "]\n",
    "param_grid = {\n",
    "    'C': [0.01, 0.1, 1, 10, 100], # Inverse of regularization strength\n",
    "    'penalty': ['l1', 'l2', 'elasticnet', 'none'],\n",
    "    'solver': ['lbfgs', 'liblinear', 'saga'],\n",
    "    'max_iter': [100, 200, 500]\n",
    "}"
   ]
  },
  {
   "cell_type": "code",
   "execution_count": 60,
   "metadata": {},
   "outputs": [],
   "source": [
    "def run_grid_search(X_train, y_train, cv_folds, param_grid):\n",
    "    # Initialize Logistic Regression model\n",
    "    lr = LogisticRegression(random_state=42)\n",
    "\n",
    "    # Grid Search with K-Fold cross-validation\n",
    "    grid_search = GridSearchCV(estimator=lr, param_grid=param_grid, cv=cv_folds, scoring='accuracy', n_jobs=-1)\n",
    "    grid_search.fit(X_train, y_train)\n",
    "\n",
    "    return grid_search.best_estimator_, grid_search.best_params_, grid_search.best_score_\n",
    "\n",
    "def run_logistic_regression(majors, columns_to_include, depression_threshold, k_folds=5, param_grid=param_grid):\n",
    "    results = []\n",
    "    print(f\"For depression threshold of {depression_threshold}, with {k_folds}-cross validation.\")\n",
    "    for major in majors:\n",
    "        print(f\"Processing major: {major}\")\n",
    "\n",
    "        # Load data\n",
    "        data = pd.read_csv(f'../Data/clean_df_{major}.csv')\n",
    "\n",
    "        # Select only the columns to include\n",
    "        data = data[[col for col in columns_to_include if col in data.columns]]\n",
    "\n",
    "        # Convert Depression_Score to binary (1: Depressed, 0: Not Depressed)\n",
    "        data['Depression_Score'] = data['Depression_Score'].apply(lambda x: 1 if x > depression_threshold else 0)\n",
    "\n",
    "        # Split into features (X) and target (y)\n",
    "        y = data['Depression_Score']\n",
    "        X = data.drop(columns=['Depression_Score'])\n",
    "        X = X.apply(pd.to_numeric, errors='coerce').dropna()\n",
    "        y = y[X.index]\n",
    "\n",
    "        # Split into training and testing sets\n",
    "        X_train, X_test, y_train, y_test = train_test_split(X, y, test_size=0.2, random_state=42, stratify=y)\n",
    "\n",
    "        # Scaling\n",
    "        scaler = MinMaxScaler()\n",
    "        X_train = pd.DataFrame(scaler.fit_transform(X_train), columns=X.columns)\n",
    "        X_test = pd.DataFrame(scaler.transform(X_test), columns=X.columns)\n",
    "\n",
    "        # Run grid search\n",
    "        best_model, best_params, best_score = run_grid_search(X_train, y_train, k_folds, param_grid)\n",
    "\n",
    "        # Perform k-fold cross-validation for evaluation\n",
    "        kf = KFold(n_splits=k_folds, shuffle=True, random_state=42)\n",
    "        cross_val_scores = cross_val_score(best_model, X_train, y_train, cv=kf, scoring='accuracy')\n",
    "        mean_cv_score = round(cross_val_scores.mean(), 5)\n",
    "\n",
    "        # Append results\n",
    "        results.append({\n",
    "            'major': major,\n",
    "            'best_params': best_params,\n",
    "            'grid_search_score': best_score,\n",
    "            'mean_cv_score': mean_cv_score\n",
    "        })\n",
    "\n",
    "    return results\n"
   ]
  },
  {
   "cell_type": "markdown",
   "metadata": {},
   "source": [
    "## Threshold of 4\n",
    "\n",
    "5 = Depressed, 1,2,3,4 = Not Depressed"
   ]
  },
  {
   "cell_type": "code",
   "execution_count": 61,
   "metadata": {},
   "outputs": [
    {
     "name": "stdout",
     "output_type": "stream",
     "text": [
      "For depression threshold of 4, with 5-cross validation.\n",
      "Processing major: main\n"
     ]
    },
    {
     "name": "stdout",
     "output_type": "stream",
     "text": [
      "Processing major: business\n",
      "Processing major: compsci\n",
      "Processing major: engineering\n",
      "Processing major: law\n",
      "Processing major: medical\n",
      "Processing major: others\n"
     ]
    }
   ],
   "source": [
    "results = run_logistic_regression(majors, columns_to_include, 4, k_folds=5)"
   ]
  },
  {
   "cell_type": "code",
   "execution_count": 62,
   "metadata": {},
   "outputs": [
    {
     "name": "stdout",
     "output_type": "stream",
     "text": [
      "Major: main\n",
      "Best Parameters: {'C': 0.01, 'max_iter': 100, 'penalty': 'l1', 'solver': 'liblinear'}\n",
      "Grid Search Score: 0.8797355738542066\n",
      "Mean Cross-Validation Score: 0.87974\n",
      "--------------------------------------------------\n",
      "Major: business\n",
      "Best Parameters: {'C': 0.01, 'max_iter': 100, 'penalty': 'l1', 'solver': 'liblinear'}\n",
      "Grid Search Score: 0.8951029748283753\n",
      "Mean Cross-Validation Score: 0.89504\n",
      "--------------------------------------------------\n",
      "Major: compsci\n",
      "Best Parameters: {'C': 0.01, 'max_iter': 100, 'penalty': 'l1', 'solver': 'liblinear'}\n",
      "Grid Search Score: 0.7417402364207691\n",
      "Mean Cross-Validation Score: 0.74176\n",
      "--------------------------------------------------\n",
      "Major: engineering\n",
      "Best Parameters: {'C': 0.01, 'max_iter': 100, 'penalty': 'l1', 'solver': 'liblinear'}\n",
      "Grid Search Score: 0.9073890608875128\n",
      "Mean Cross-Validation Score: 0.9074\n",
      "--------------------------------------------------\n",
      "Major: law\n",
      "Best Parameters: {'C': 0.01, 'max_iter': 100, 'penalty': 'l1', 'solver': 'liblinear'}\n",
      "Grid Search Score: 0.9039860139860141\n",
      "Mean Cross-Validation Score: 0.90399\n",
      "--------------------------------------------------\n",
      "Major: medical\n",
      "Best Parameters: {'C': 0.01, 'max_iter': 100, 'penalty': 'l1', 'solver': 'liblinear'}\n",
      "Grid Search Score: 0.9057285003553661\n",
      "Mean Cross-Validation Score: 0.90573\n",
      "--------------------------------------------------\n",
      "Major: others\n",
      "Best Parameters: {'C': 0.01, 'max_iter': 100, 'penalty': 'l1', 'solver': 'liblinear'}\n",
      "Grid Search Score: 0.8984286803966437\n",
      "Mean Cross-Validation Score: 0.89841\n",
      "--------------------------------------------------\n"
     ]
    }
   ],
   "source": [
    "for result in results:\n",
    "    print(f\"Major: {result['major']}\")\n",
    "    print(f\"Best Parameters: {result['best_params']}\")\n",
    "    print(f\"Grid Search Score: {result['grid_search_score']}\")\n",
    "    print(f\"Mean Cross-Validation Score: {result['mean_cv_score']}\")\n",
    "    print(\"-\" * 50)"
   ]
  },
  {
   "cell_type": "markdown",
   "metadata": {},
   "source": [
    "## Threshold of 3\n",
    "\n",
    "4,5 = Depressed, 1,2,3 = Not Depressed"
   ]
  },
  {
   "cell_type": "code",
   "execution_count": 63,
   "metadata": {},
   "outputs": [
    {
     "name": "stdout",
     "output_type": "stream",
     "text": [
      "For depression threshold of 3, with 5-cross validation.\n",
      "Processing major: main\n",
      "Processing major: business\n",
      "Processing major: compsci\n",
      "Processing major: engineering\n",
      "Processing major: law\n",
      "Processing major: medical\n",
      "Processing major: others\n"
     ]
    }
   ],
   "source": [
    "results = run_logistic_regression(majors, columns_to_include, 3, k_folds=5)"
   ]
  },
  {
   "cell_type": "code",
   "execution_count": 64,
   "metadata": {},
   "outputs": [
    {
     "name": "stdout",
     "output_type": "stream",
     "text": [
      "Major: main\n",
      "Best Parameters: {'C': 0.01, 'max_iter': 100, 'penalty': 'l1', 'solver': 'liblinear'}\n",
      "Grid Search Score: 0.7542887463296312\n",
      "Mean Cross-Validation Score: 0.75429\n",
      "--------------------------------------------------\n",
      "Major: business\n",
      "Best Parameters: {'C': 0.01, 'max_iter': 100, 'penalty': 'l1', 'solver': 'liblinear'}\n",
      "Grid Search Score: 0.8024561403508772\n",
      "Mean Cross-Validation Score: 0.80244\n",
      "--------------------------------------------------\n",
      "Major: compsci\n",
      "Best Parameters: {'C': 0.01, 'max_iter': 100, 'penalty': 'l2', 'solver': 'lbfgs'}\n",
      "Grid Search Score: 0.5238665270088284\n",
      "Mean Cross-Validation Score: 0.52265\n",
      "--------------------------------------------------\n",
      "Major: engineering\n",
      "Best Parameters: {'C': 0.01, 'max_iter': 100, 'penalty': 'l1', 'solver': 'liblinear'}\n",
      "Grid Search Score: 0.8042242862057103\n",
      "Mean Cross-Validation Score: 0.80419\n",
      "--------------------------------------------------\n",
      "Major: law\n",
      "Best Parameters: {'C': 0.01, 'max_iter': 100, 'penalty': 'l1', 'solver': 'liblinear'}\n",
      "Grid Search Score: 0.7998190045248869\n",
      "Mean Cross-Validation Score: 0.79978\n",
      "--------------------------------------------------\n",
      "Major: medical\n",
      "Best Parameters: {'C': 0.01, 'max_iter': 100, 'penalty': 'l1', 'solver': 'liblinear'}\n",
      "Grid Search Score: 0.8054904051172708\n",
      "Mean Cross-Validation Score: 0.80549\n",
      "--------------------------------------------------\n",
      "Major: others\n",
      "Best Parameters: {'C': 0.01, 'max_iter': 100, 'penalty': 'l1', 'solver': 'liblinear'}\n",
      "Grid Search Score: 0.7915942028985509\n",
      "Mean Cross-Validation Score: 0.79156\n",
      "--------------------------------------------------\n"
     ]
    }
   ],
   "source": [
    "for result in results:\n",
    "    print(f\"Major: {result['major']}\")\n",
    "    print(f\"Best Parameters: {result['best_params']}\")\n",
    "    print(f\"Grid Search Score: {result['grid_search_score']}\")\n",
    "    print(f\"Mean Cross-Validation Score: {result['mean_cv_score']}\")\n",
    "    print(\"-\" * 50)"
   ]
  },
  {
   "cell_type": "markdown",
   "metadata": {},
   "source": [
    "## Threshold of 2\n",
    "\n",
    "3,4,5 = Depressed, 1,2 = Not Depressed"
   ]
  },
  {
   "cell_type": "code",
   "execution_count": 65,
   "metadata": {},
   "outputs": [
    {
     "name": "stdout",
     "output_type": "stream",
     "text": [
      "For depression threshold of 2, with 5-cross validation.\n",
      "Processing major: main\n",
      "Processing major: business\n",
      "Processing major: compsci\n",
      "Processing major: engineering\n",
      "Processing major: law\n",
      "Processing major: medical\n",
      "Processing major: others\n"
     ]
    }
   ],
   "source": [
    "results = run_logistic_regression(majors, columns_to_include, 2, k_folds=5)"
   ]
  },
  {
   "cell_type": "code",
   "execution_count": 66,
   "metadata": {},
   "outputs": [
    {
     "name": "stdout",
     "output_type": "stream",
     "text": [
      "Major: main\n",
      "Best Parameters: {'C': 0.01, 'max_iter': 100, 'penalty': 'l1', 'solver': 'liblinear'}\n",
      "Grid Search Score: 0.5562902144772118\n",
      "Mean Cross-Validation Score: 0.55629\n",
      "--------------------------------------------------\n",
      "Major: business\n",
      "Best Parameters: {'C': 1, 'max_iter': 100, 'penalty': 'l1', 'solver': 'liblinear'}\n",
      "Grid Search Score: 0.5979099923722349\n",
      "Mean Cross-Validation Score: 0.59092\n",
      "--------------------------------------------------\n",
      "Major: compsci\n",
      "Best Parameters: {'C': 0.01, 'max_iter': 100, 'penalty': 'l1', 'solver': 'liblinear'}\n",
      "Grid Search Score: 0.7160407002843033\n",
      "Mean Cross-Validation Score: 0.71604\n",
      "--------------------------------------------------\n",
      "Major: engineering\n",
      "Best Parameters: {'C': 0.01, 'max_iter': 100, 'penalty': 'l1', 'solver': 'liblinear'}\n",
      "Grid Search Score: 0.6049260405916753\n",
      "Mean Cross-Validation Score: 0.60497\n",
      "--------------------------------------------------\n",
      "Major: law\n",
      "Best Parameters: {'C': 1, 'max_iter': 100, 'penalty': 'l2', 'solver': 'lbfgs'}\n",
      "Grid Search Score: 0.5960139860139859\n",
      "Mean Cross-Validation Score: 0.59149\n",
      "--------------------------------------------------\n",
      "Major: medical\n",
      "Best Parameters: {'C': 0.01, 'max_iter': 100, 'penalty': 'l1', 'solver': 'liblinear'}\n",
      "Grid Search Score: 0.6085927505330491\n",
      "Mean Cross-Validation Score: 0.60859\n",
      "--------------------------------------------------\n",
      "Major: others\n",
      "Best Parameters: {'C': 0.01, 'max_iter': 100, 'penalty': 'l1', 'solver': 'liblinear'}\n",
      "Grid Search Score: 0.6042105263157894\n",
      "Mean Cross-Validation Score: 0.60418\n",
      "--------------------------------------------------\n"
     ]
    }
   ],
   "source": [
    "for result in results:\n",
    "    print(f\"Major: {result['major']}\")\n",
    "    print(f\"Best Parameters: {result['best_params']}\")\n",
    "    print(f\"Grid Search Score: {result['grid_search_score']}\")\n",
    "    print(f\"Mean Cross-Validation Score: {result['mean_cv_score']}\")\n",
    "    print(\"-\" * 50)"
   ]
  },
  {
   "cell_type": "code",
   "execution_count": null,
   "metadata": {},
   "outputs": [],
   "source": []
  }
 ],
 "metadata": {
  "kernelspec": {
   "display_name": "tf2.10_env",
   "language": "python",
   "name": "python3"
  },
  "language_info": {
   "codemirror_mode": {
    "name": "ipython",
    "version": 3
   },
   "file_extension": ".py",
   "mimetype": "text/x-python",
   "name": "python",
   "nbconvert_exporter": "python",
   "pygments_lexer": "ipython3",
   "version": "3.9.20"
  }
 },
 "nbformat": 4,
 "nbformat_minor": 2
}

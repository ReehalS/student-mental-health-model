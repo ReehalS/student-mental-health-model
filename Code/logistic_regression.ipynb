{
 "cells": [
  {
   "cell_type": "markdown",
   "metadata": {},
   "source": [
    "# Logistic Regression\n",
    "\n",
    "run grid search on Logistic regression with different thresholds."
   ]
  },
  {
   "cell_type": "code",
   "execution_count": 4,
   "metadata": {},
   "outputs": [],
   "source": [
    "# Import Libraries\n",
    "import pandas as pd\n",
    "import numpy as np\n",
    "from sklearn.linear_model import LogisticRegression\n",
    "from sklearn.metrics import accuracy_score\n",
    "from sklearn.model_selection import train_test_split\n",
    "from sklearn.preprocessing import MinMaxScaler\n",
    "import warnings\n",
    "warnings.filterwarnings('ignore')"
   ]
  },
  {
   "cell_type": "code",
   "execution_count": 6,
   "metadata": {},
   "outputs": [
    {
     "name": "stdout",
     "output_type": "stream",
     "text": [
      "Accuracy of main with Logistic Regression: 0.75929\n",
      "Accuracy of business with Logistic Regression: 0.7933\n",
      "Accuracy of compsci with Logistic Regression: 0.51172\n",
      "Accuracy of engineering with Logistic Regression: 0.78652\n",
      "Accuracy of law with Logistic Regression: 0.80347\n",
      "Accuracy of medical with Logistic Regression: 0.78053\n",
      "Accuracy of others with Logistic Regression: 0.7933\n"
     ]
    }
   ],
   "source": [
    "majors = ['main','business','compsci','engineering','law','medical','others']\n",
    "\n",
    "depression_threshold = 3\n",
    "\n",
    "def model_assess(model, title=\"Default\"):\n",
    "    model.fit(X_train, y_train)\n",
    "    preds = model.predict(X_test)\n",
    "    print(f'Accuracy of {title}: {round(accuracy_score(y_test, preds), 5)}')\n",
    "\n",
    "\n",
    "for major in majors:\n",
    "    data = pd.read_csv(f'../Data/clean_df_{major}.csv')\n",
    "\n",
    "    columns_to_drop = ['Course','Gender','Sleep_Quality','Physical_Activity','Diet_Quality','Social_Support','Relationship_Status','Substance_Use','Counseling_Service_Use','Family_History','Chronic_Illness','Extracurricular_Involvement','Residence_Type']\n",
    "    data = data.drop(columns=[col for col in columns_to_drop if col in data.columns])\n",
    "\n",
    "    data['Depression_Score'] = data['Depression_Score'].apply(lambda x: 1 if x > depression_threshold else 0)\n",
    "    y = data['Depression_Score']\n",
    "    X = data.drop(columns=['Depression_Score'])\n",
    "    X = X.apply(pd.to_numeric, errors='coerce').dropna()\n",
    "    y = y[X.index]\n",
    "\n",
    "    scaler = MinMaxScaler()\n",
    "    X = pd.DataFrame(scaler.fit_transform(X), columns=X.columns)\n",
    "\n",
    "    # Train-test split\n",
    "    X_train, X_test, y_train, y_test = train_test_split(X, y, test_size=0.25, random_state=42)\n",
    "\n",
    "    lrModel = LogisticRegression(random_state=42, solver='lbfgs', multi_class='multinomial')\n",
    "    \n",
    "    lrModel.fit(X_train, y_train)\n",
    "    preds = lrModel.predict(X_test)\n",
    "    print(f'Accuracy of {major} with Logistic Regression: {round(accuracy_score(y_test, preds), 5)}')\n",
    "\n",
    "\n"
   ]
  }
 ],
 "metadata": {
  "kernelspec": {
   "display_name": "tf2.10_env",
   "language": "python",
   "name": "python3"
  },
  "language_info": {
   "codemirror_mode": {
    "name": "ipython",
    "version": 3
   },
   "file_extension": ".py",
   "mimetype": "text/x-python",
   "name": "python",
   "nbconvert_exporter": "python",
   "pygments_lexer": "ipython3",
   "version": "3.9.20"
  }
 },
 "nbformat": 4,
 "nbformat_minor": 2
}

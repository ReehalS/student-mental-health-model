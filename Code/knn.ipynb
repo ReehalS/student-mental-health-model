{
 "cells": [
  {
   "cell_type": "code",
   "execution_count": 14,
   "metadata": {},
   "outputs": [],
   "source": [
    "import pandas as pd \n",
    "from sklearn.neighbors import KNeighborsClassifier\n",
    "from sklearn.metrics import accuracy_score\n",
    "from sklearn.model_selection import train_test_split, GridSearchCV\n",
    "from sklearn.preprocessing import MinMaxScaler"
   ]
  },
  {
   "cell_type": "markdown",
   "metadata": {},
   "source": [
    "with 6 features"
   ]
  },
  {
   "cell_type": "code",
   "execution_count": 21,
   "metadata": {},
   "outputs": [
    {
     "name": "stdout",
     "output_type": "stream",
     "text": [
      "Major:  business\n",
      "Best Parameters: {'algorithm': 'auto', 'leaf_size': 20, 'metric': 'minkowski', 'n_jobs': -1, 'n_neighbors': 7, 'weights': 'uniform'}\n",
      "Best Cross-Validation Accuracy: 0.9011235955056179\n",
      "Test Set Accuracy: 0.8770949720670391\n",
      "\n",
      "Major:  compsci\n"
     ]
    },
    {
     "name": "stderr",
     "output_type": "stream",
     "text": [
      "c:\\repos\\ECS171FQ24_ResearchProject_SATAK\\.venv\\Lib\\site-packages\\numpy\\ma\\core.py:2846: RuntimeWarning: invalid value encountered in cast\n",
      "  _data = np.array(data, dtype=dtype, copy=copy,\n"
     ]
    },
    {
     "name": "stdout",
     "output_type": "stream",
     "text": [
      "Best Parameters: {'algorithm': 'auto', 'leaf_size': 20, 'metric': 'minkowski', 'n_jobs': -1, 'n_neighbors': 16, 'weights': 'uniform'}\n",
      "Best Cross-Validation Accuracy: 0.748052001312336\n",
      "Test Set Accuracy: 0.71875\n",
      "\n",
      "Major:  engineering\n"
     ]
    },
    {
     "name": "stderr",
     "output_type": "stream",
     "text": [
      "c:\\repos\\ECS171FQ24_ResearchProject_SATAK\\.venv\\Lib\\site-packages\\numpy\\ma\\core.py:2846: RuntimeWarning: invalid value encountered in cast\n",
      "  _data = np.array(data, dtype=dtype, copy=copy,\n"
     ]
    },
    {
     "name": "stdout",
     "output_type": "stream",
     "text": [
      "Best Parameters: {'algorithm': 'auto', 'leaf_size': 20, 'metric': 'minkowski', 'n_jobs': -1, 'n_neighbors': 6, 'weights': 'uniform'}\n",
      "Best Cross-Validation Accuracy: 0.9162551902143418\n",
      "Test Set Accuracy: 0.8838951310861424\n",
      "\n",
      "Major:  law\n"
     ]
    },
    {
     "name": "stderr",
     "output_type": "stream",
     "text": [
      "c:\\repos\\ECS171FQ24_ResearchProject_SATAK\\.venv\\Lib\\site-packages\\numpy\\ma\\core.py:2846: RuntimeWarning: invalid value encountered in cast\n",
      "  _data = np.array(data, dtype=dtype, copy=copy,\n"
     ]
    },
    {
     "name": "stdout",
     "output_type": "stream",
     "text": [
      "Best Parameters: {'algorithm': 'auto', 'leaf_size': 20, 'metric': 'minkowski', 'n_jobs': -1, 'n_neighbors': 6, 'weights': 'uniform'}\n",
      "Best Cross-Validation Accuracy: 0.9014484473719587\n",
      "Test Set Accuracy: 0.9075144508670521\n",
      "\n",
      "Major:  medical\n"
     ]
    },
    {
     "name": "stderr",
     "output_type": "stream",
     "text": [
      "c:\\repos\\ECS171FQ24_ResearchProject_SATAK\\.venv\\Lib\\site-packages\\numpy\\ma\\core.py:2846: RuntimeWarning: invalid value encountered in cast\n",
      "  _data = np.array(data, dtype=dtype, copy=copy,\n"
     ]
    },
    {
     "name": "stdout",
     "output_type": "stream",
     "text": [
      "Best Parameters: {'algorithm': 'auto', 'leaf_size': 20, 'metric': 'minkowski', 'n_jobs': -1, 'n_neighbors': 6, 'weights': 'uniform'}\n",
      "Best Cross-Validation Accuracy: 0.9115776081424937\n",
      "Test Set Accuracy: 0.8893129770992366\n",
      "\n",
      "Major:  others\n",
      "Best Parameters: {'algorithm': 'auto', 'leaf_size': 20, 'metric': 'minkowski', 'n_jobs': -1, 'n_neighbors': 6, 'weights': 'uniform'}\n",
      "Best Cross-Validation Accuracy: 0.8915938410320433\n",
      "Test Set Accuracy: 0.9162011173184358\n",
      "\n"
     ]
    },
    {
     "name": "stderr",
     "output_type": "stream",
     "text": [
      "c:\\repos\\ECS171FQ24_ResearchProject_SATAK\\.venv\\Lib\\site-packages\\numpy\\ma\\core.py:2846: RuntimeWarning: invalid value encountered in cast\n",
      "  _data = np.array(data, dtype=dtype, copy=copy,\n"
     ]
    }
   ],
   "source": [
    "features = ['Age', 'CGPA', 'Semester_Credit_Load', 'Anxiety_Score', 'Financial_Stress', 'Stress_Level']\n",
    "majors = ['business','compsci','engineering','law','medical','others']\n",
    "depression_threshold = 4\n",
    "\n",
    "for major in majors:\n",
    "    print(\"Major: \", major)\n",
    "    data = pd.read_csv(f'../Data/clean_df_{major}.csv')\n",
    "    data.drop(['Course'], axis=1, inplace=True)\n",
    "    data['Depression_Score'] = data['Depression_Score'].apply(lambda x: 1 if x > depression_threshold else 0)\n",
    "\n",
    "    X = data[features]\n",
    "    y = data['Depression_Score']\n",
    "\n",
    "    X_train, X_test, y_train, y_test = train_test_split(X, y, test_size=0.25, random_state=42)\n",
    "\n",
    "    scaler = MinMaxScaler()\n",
    "    X_train = scaler.fit_transform(X_train)\n",
    "    X_test = scaler.transform(X_test)\n",
    "\n",
    "    # best_accuracy = 0\n",
    "    # best_num_neighbors = 0\n",
    "    # for num_neighbors in range(6, 20):\n",
    "    #     model = KNeighborsClassifier(n_neighbors=num_neighbors)\n",
    "    #     model.fit(X_train, y_train)\n",
    "    #     preds = model.predict(X_test)\n",
    "    #     if accuracy_score(y_test, preds) > best_accuracy:\n",
    "    #         best_accuracy = accuracy_score(y_test, preds)\n",
    "    #         best_num_neighbors = num_neighbors\n",
    "    # print(f'Accuracy @{best_num_neighbors}: {round(best_accuracy, 5)}')\n",
    "    \n",
    "    knn = KNeighborsClassifier()\n",
    "\n",
    "    param_grid = {\n",
    "        'n_neighbors': range(6, 20),                        # Number of neighbors to test\n",
    "        'weights': ['uniform', 'distance'],                 # Weight function\n",
    "        'metric': ['minkowski', 'euclidean', 'manhattan'],  # Distance metric\n",
    "        'algorithm': ['auto', 'ball_tree', 'kd_tree'],      # Algorithm\n",
    "        'leaf_size': [20, 30, 40],                          # Leaf size\n",
    "        'n_jobs': [-1]                                      # Use all CPU cores\n",
    "    }\n",
    "\n",
    "    grid_search = GridSearchCV(estimator=knn, param_grid=param_grid, cv=6, scoring='accuracy')\n",
    "\n",
    "    grid_search.fit(X_train, y_train)\n",
    "\n",
    "    print(\"Best Parameters:\", grid_search.best_params_)\n",
    "    print(\"Best Cross-Validation Accuracy:\", grid_search.best_score_)\n",
    "\n",
    "    best_knn = grid_search.best_estimator_\n",
    "    y_pred = best_knn.predict(X_test)\n",
    "\n",
    "    print(\"Test Set Accuracy:\", accuracy_score(y_test, y_pred))\n",
    "    print()"
   ]
  },
  {
   "cell_type": "markdown",
   "metadata": {},
   "source": [
    "with 4 features"
   ]
  },
  {
   "cell_type": "code",
   "execution_count": 22,
   "metadata": {},
   "outputs": [
    {
     "name": "stdout",
     "output_type": "stream",
     "text": [
      "Major:  business\n",
      "Best Parameters: {'algorithm': 'auto', 'leaf_size': 20, 'metric': 'minkowski', 'n_neighbors': 10, 'weights': 'uniform'}\n",
      "Best Cross-Validation Accuracy: 0.9029754473574698\n",
      "Test Set Accuracy: 0.88268156424581\n",
      "\n",
      "Major:  compsci\n",
      "Best Parameters: {'algorithm': 'auto', 'leaf_size': 20, 'metric': 'manhattan', 'n_neighbors': 16, 'weights': 'uniform'}\n",
      "Best Cross-Validation Accuracy: 0.744145751312336\n",
      "Test Set Accuracy: 0.71484375\n",
      "\n",
      "Major:  engineering\n",
      "Best Parameters: {'algorithm': 'auto', 'leaf_size': 20, 'metric': 'minkowski', 'n_neighbors': 8, 'weights': 'uniform'}\n",
      "Best Cross-Validation Accuracy: 0.9162551902143418\n",
      "Test Set Accuracy: 0.8801498127340824\n",
      "\n",
      "Major:  law\n",
      "Best Parameters: {'algorithm': 'auto', 'leaf_size': 20, 'metric': 'minkowski', 'n_neighbors': 6, 'weights': 'uniform'}\n",
      "Best Cross-Validation Accuracy: 0.9014484473719587\n",
      "Test Set Accuracy: 0.9104046242774566\n",
      "\n",
      "Major:  medical\n",
      "Best Parameters: {'algorithm': 'auto', 'leaf_size': 20, 'metric': 'minkowski', 'n_neighbors': 6, 'weights': 'uniform'}\n",
      "Best Cross-Validation Accuracy: 0.9115776081424937\n",
      "Test Set Accuracy: 0.8893129770992366\n",
      "\n",
      "Major:  others\n",
      "Best Parameters: {'algorithm': 'auto', 'leaf_size': 20, 'metric': 'minkowski', 'n_neighbors': 8, 'weights': 'uniform'}\n",
      "Best Cross-Validation Accuracy: 0.8934665002080733\n",
      "Test Set Accuracy: 0.9162011173184358\n",
      "\n"
     ]
    }
   ],
   "source": [
    "features = ['Age', 'CGPA', 'Semester_Credit_Load', 'Anxiety_Score']\n",
    "majors = ['business','compsci','engineering','law','medical','others']\n",
    "depression_threshold = 4\n",
    "\n",
    "for major in majors:\n",
    "    print(\"Major: \", major)\n",
    "    data = pd.read_csv(f'../Data/clean_df_{major}.csv')\n",
    "    data.drop(['Course'], axis=1, inplace=True)\n",
    "    data['Depression_Score'] = data['Depression_Score'].apply(lambda x: 1 if x > depression_threshold else 0)\n",
    "\n",
    "    X = data[features]\n",
    "    y = data['Depression_Score']\n",
    "\n",
    "    X_train, X_test, y_train, y_test = train_test_split(X, y, test_size=0.25, random_state=42)\n",
    "\n",
    "    scaler = MinMaxScaler()\n",
    "    X_train = scaler.fit_transform(X_train)\n",
    "    X_test = scaler.transform(X_test)\n",
    "\n",
    "    # best_accuracy = 0\n",
    "    # best_num_neighbors = 0\n",
    "    # for num_neighbors in range(6, 20):\n",
    "    #     model = KNeighborsClassifier(n_neighbors=num_neighbors)\n",
    "    #     model.fit(X_train, y_train)\n",
    "    #     preds = model.predict(X_test)\n",
    "    #     if accuracy_score(y_test, preds) > best_accuracy:\n",
    "    #         best_accuracy = accuracy_score(y_test, preds)\n",
    "    #         best_num_neighbors = num_neighbors\n",
    "    # print(f'Accuracy @{best_num_neighbors}: {round(best_accuracy, 5)}')\n",
    "    \n",
    "    knn = KNeighborsClassifier()\n",
    "\n",
    "    param_grid = {\n",
    "        'n_neighbors': range(6, 20),                        # Number of neighbors to test\n",
    "        'weights': ['uniform', 'distance'],                 # Weight function\n",
    "        'metric': ['minkowski', 'euclidean', 'manhattan'],  # Distance metric\n",
    "        'algorithm': ['auto', 'ball_tree', 'kd_tree'],      # Algorithm\n",
    "        'leaf_size': [20, 30, 40],                          # Leaf size\n",
    "    }\n",
    "\n",
    "    grid_search = GridSearchCV(estimator=knn, param_grid=param_grid, cv=6, scoring='accuracy')\n",
    "\n",
    "    grid_search.fit(X_train, y_train)\n",
    "\n",
    "    print(\"Best Parameters:\", grid_search.best_params_)\n",
    "    print(\"Best Cross-Validation Accuracy:\", grid_search.best_score_)\n",
    "\n",
    "    best_knn = grid_search.best_estimator_\n",
    "    y_pred = best_knn.predict(X_test)\n",
    "\n",
    "    print(\"Test Set Accuracy:\", accuracy_score(y_test, y_pred))\n",
    "    print()"
   ]
  },
  {
   "cell_type": "code",
   "execution_count": null,
   "metadata": {},
   "outputs": [],
   "source": []
  }
 ],
 "metadata": {
  "kernelspec": {
   "display_name": ".venv",
   "language": "python",
   "name": "python3"
  },
  "language_info": {
   "codemirror_mode": {
    "name": "ipython",
    "version": 3
   },
   "file_extension": ".py",
   "mimetype": "text/x-python",
   "name": "python",
   "nbconvert_exporter": "python",
   "pygments_lexer": "ipython3",
   "version": "3.12.6"
  }
 },
 "nbformat": 4,
 "nbformat_minor": 2
}

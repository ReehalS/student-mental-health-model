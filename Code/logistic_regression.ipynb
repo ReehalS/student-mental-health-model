{
 "cells": [
  {
   "cell_type": "markdown",
   "metadata": {},
   "source": [
    "# Logistic Regression\n",
    "\n",
    "run grid search on Logistic regression with different thresholds."
   ]
  },
  {
   "cell_type": "code",
   "execution_count": 17,
   "metadata": {},
   "outputs": [],
   "source": [
    "from sklearn.model_selection import train_test_split, GridSearchCV, cross_val_score, KFold\n",
    "from sklearn.preprocessing import MinMaxScaler\n",
    "from sklearn.linear_model import LogisticRegression\n",
    "from sklearn.metrics import accuracy_score\n",
    "import pandas as pd\n",
    "\n",
    "\n",
    "import warnings\n",
    "warnings.filterwarnings('ignore')"
   ]
  },
  {
   "cell_type": "code",
   "execution_count": 28,
   "metadata": {},
   "outputs": [],
   "source": [
    "majors = ['main', 'business', 'compsci', 'engineering', 'law', 'medical', 'others']\n",
    "\n",
    "# List of columns to include in the analysis\n",
    "columns_to_include = [\n",
    "    'Age', 'CGPA', 'Stress_Level', 'Depression_Score', \n",
    "    'Anxiety_Score', 'Financial_Stress', 'Semester_Credit_Load'\n",
    "]\n",
    "param_grid = {\n",
    "    'C': [0.01, 0.1, 1, 10, 100],\n",
    "    'penalty': ['l1', 'l2', 'elasticnet', 'none'],\n",
    "    'solver': ['lbfgs', 'liblinear', 'saga'],\n",
    "    'max_iter': [100, 200, 500]\n",
    "}"
   ]
  },
  {
   "cell_type": "code",
   "execution_count": 29,
   "metadata": {},
   "outputs": [],
   "source": [
    "def run_grid_search(X, y, cv_folds, param_grid=param_grid):\n",
    "\n",
    "    # Initialize Logistic Regression model\n",
    "    lr = LogisticRegression(random_state=42, multi_class='multinomial')\n",
    "\n",
    "    # Grid Search with K-Fold cross-validation\n",
    "    grid_search = GridSearchCV(estimator=lr, param_grid=param_grid, cv=cv_folds, scoring='accuracy', n_jobs=-1)\n",
    "    grid_search.fit(X, y)\n",
    "\n",
    "    return grid_search.best_estimator_, grid_search.best_params_, grid_search.best_score_\n",
    "\n",
    "def run_logistic_regression(majors, columns_to_include, depression_threshold, k_folds=5):\n",
    "    results = []\n",
    "    for major in majors:\n",
    "        print(f\"Processing major: {major}\")\n",
    "\n",
    "        # Load data\n",
    "        data = pd.read_csv(f'../Data/clean_df_{major}.csv')\n",
    "\n",
    "        # Select only the columns to include\n",
    "        data = data[[col for col in columns_to_include if col in data.columns]]\n",
    "\n",
    "        # Convert Depression_Score to binary (1: Depressed, 0: Not Depressed)\n",
    "        data['Depression_Score'] = data['Depression_Score'].apply(lambda x: 1 if x > depression_threshold else 0)\n",
    "\n",
    "        # Split into features (X) and target (y)\n",
    "        y = data['Depression_Score']\n",
    "        X = data.drop(columns=['Depression_Score'])\n",
    "        X = X.apply(pd.to_numeric, errors='coerce').dropna()\n",
    "        y = y[X.index]\n",
    "\n",
    "        # Scaling\n",
    "        scaler = MinMaxScaler()\n",
    "        X = pd.DataFrame(scaler.fit_transform(X), columns=X.columns)\n",
    "\n",
    "        # Run grid search\n",
    "        best_model, best_params, best_score = run_grid_search(X, y, k_folds)\n",
    "\n",
    "        # Perform k-fold cross-validation for evaluation\n",
    "        kf = KFold(n_splits=k_folds, shuffle=True, random_state=42)\n",
    "        cross_val_scores = cross_val_score(best_model, X, y, cv=kf, scoring='accuracy')\n",
    "        mean_cv_score = round(cross_val_scores.mean(), 5)\n",
    "\n",
    "        # Append results\n",
    "        results.append({\n",
    "            'major': major,\n",
    "            'best_params': best_params,\n",
    "            'grid_search_score': best_score,\n",
    "            'mean_cv_score': mean_cv_score\n",
    "        })\n",
    "\n",
    "    return results\n",
    "\n"
   ]
  },
  {
   "cell_type": "markdown",
   "metadata": {},
   "source": [
    "## Threshold of 4\n",
    "\n",
    "5 = Depressed, 1,2,3,4 = Not Depressed"
   ]
  },
  {
   "cell_type": "code",
   "execution_count": null,
   "metadata": {},
   "outputs": [],
   "source": [
    "results = run_logistic_regression(majors, columns_to_include, 4, k_folds=5)"
   ]
  },
  {
   "cell_type": "code",
   "execution_count": 31,
   "metadata": {},
   "outputs": [
    {
     "name": "stdout",
     "output_type": "stream",
     "text": [
      "Major: main\n",
      "Best Parameters: {'C': 0.01, 'max_iter': 100, 'penalty': 'l1', 'solver': 'saga'}\n",
      "Grid Search Score: 0.8797712651894211\n",
      "Mean Cross-Validation Score: 0.87977\n",
      "--------------------------------------------------\n",
      "Major: business\n",
      "Best Parameters: {'C': 0.01, 'max_iter': 100, 'penalty': 'l1', 'solver': 'saga'}\n",
      "Grid Search Score: 0.8951048951048952\n",
      "Mean Cross-Validation Score: 0.8951\n",
      "--------------------------------------------------\n",
      "Major: compsci\n",
      "Best Parameters: {'C': 0.01, 'max_iter': 100, 'penalty': 'l1', 'solver': 'saga'}\n",
      "Grid Search Score: 0.7416834050693448\n",
      "Mean Cross-Validation Score: 0.74173\n",
      "--------------------------------------------------\n",
      "Major: engineering\n",
      "Best Parameters: {'C': 0.01, 'max_iter': 100, 'penalty': 'l1', 'solver': 'saga'}\n",
      "Grid Search Score: 0.9072177613970427\n",
      "Mean Cross-Validation Score: 0.90728\n",
      "--------------------------------------------------\n",
      "Major: law\n",
      "Best Parameters: {'C': 0.01, 'max_iter': 100, 'penalty': 'l1', 'solver': 'saga'}\n",
      "Grid Search Score: 0.9036938209595563\n",
      "Mean Cross-Validation Score: 0.90369\n",
      "--------------------------------------------------\n",
      "Major: medical\n",
      "Best Parameters: {'C': 0.01, 'max_iter': 100, 'penalty': 'l1', 'solver': 'saga'}\n",
      "Grid Search Score: 0.9060120468235026\n",
      "Mean Cross-Validation Score: 0.90602\n",
      "--------------------------------------------------\n",
      "Major: others\n",
      "Best Parameters: {'C': 0.01, 'max_iter': 100, 'penalty': 'l1', 'solver': 'saga'}\n",
      "Grid Search Score: 0.8977642076233625\n",
      "Mean Cross-Validation Score: 0.89774\n",
      "--------------------------------------------------\n"
     ]
    }
   ],
   "source": [
    "for result in results:\n",
    "    print(f\"Major: {result['major']}\")\n",
    "    print(f\"Best Parameters: {result['best_params']}\")\n",
    "    print(f\"Grid Search Score: {result['grid_search_score']}\")\n",
    "    print(f\"Mean Cross-Validation Score: {result['mean_cv_score']}\")\n",
    "    print(\"-\" * 50)"
   ]
  },
  {
   "cell_type": "markdown",
   "metadata": {},
   "source": [
    "## Threshold of 3\n",
    "\n",
    "4,5 = Depressed, 1,2,3 = Not Depressed"
   ]
  },
  {
   "cell_type": "code",
   "execution_count": null,
   "metadata": {},
   "outputs": [],
   "source": [
    "results = run_logistic_regression(majors, columns_to_include, 3, k_folds=5)"
   ]
  },
  {
   "cell_type": "code",
   "execution_count": 33,
   "metadata": {},
   "outputs": [
    {
     "name": "stdout",
     "output_type": "stream",
     "text": [
      "Major: main\n",
      "Best Parameters: {'C': 0.01, 'max_iter': 100, 'penalty': 'l1', 'solver': 'saga'}\n",
      "Grid Search Score: 0.7542530378842031\n",
      "Mean Cross-Validation Score: 0.75425\n",
      "--------------------------------------------------\n",
      "Major: business\n",
      "Best Parameters: {'C': 0.01, 'max_iter': 100, 'penalty': 'l1', 'solver': 'saga'}\n",
      "Grid Search Score: 0.8027972027972028\n",
      "Mean Cross-Validation Score: 0.8028\n",
      "--------------------------------------------------\n",
      "Major: compsci\n",
      "Best Parameters: {'C': 0.01, 'max_iter': 100, 'penalty': 'l2', 'solver': 'lbfgs'}\n",
      "Grid Search Score: 0.527403156384505\n",
      "Mean Cross-Validation Score: 0.52152\n",
      "--------------------------------------------------\n",
      "Major: engineering\n",
      "Best Parameters: {'C': 0.01, 'max_iter': 100, 'penalty': 'l1', 'solver': 'saga'}\n",
      "Grid Search Score: 0.8041244350840244\n",
      "Mean Cross-Validation Score: 0.80418\n",
      "--------------------------------------------------\n",
      "Major: law\n",
      "Best Parameters: {'C': 0.01, 'max_iter': 100, 'penalty': 'l1', 'solver': 'saga'}\n",
      "Grid Search Score: 0.8001464971485376\n",
      "Mean Cross-Validation Score: 0.80014\n",
      "--------------------------------------------------\n",
      "Major: medical\n",
      "Best Parameters: {'C': 0.01, 'max_iter': 100, 'penalty': 'l1', 'solver': 'saga'}\n",
      "Grid Search Score: 0.8053437890669395\n",
      "Mean Cross-Validation Score: 0.80536\n",
      "--------------------------------------------------\n",
      "Major: others\n",
      "Best Parameters: {'C': 0.01, 'max_iter': 100, 'penalty': 'l1', 'solver': 'saga'}\n",
      "Grid Search Score: 0.7913227617452969\n",
      "Mean Cross-Validation Score: 0.79132\n",
      "--------------------------------------------------\n"
     ]
    }
   ],
   "source": [
    "for result in results:\n",
    "    print(f\"Major: {result['major']}\")\n",
    "    print(f\"Best Parameters: {result['best_params']}\")\n",
    "    print(f\"Grid Search Score: {result['grid_search_score']}\")\n",
    "    print(f\"Mean Cross-Validation Score: {result['mean_cv_score']}\")\n",
    "    print(\"-\" * 50)"
   ]
  },
  {
   "cell_type": "markdown",
   "metadata": {},
   "source": [
    "## Threshold of 2\n",
    "\n",
    "3,4,5 = Depressed, 1,2 = Not Depressed"
   ]
  },
  {
   "cell_type": "code",
   "execution_count": null,
   "metadata": {},
   "outputs": [],
   "source": [
    "results = run_logistic_regression(majors, columns_to_include, 2, k_folds=5)"
   ]
  },
  {
   "cell_type": "code",
   "execution_count": 35,
   "metadata": {},
   "outputs": [
    {
     "name": "stdout",
     "output_type": "stream",
     "text": [
      "Major: main\n",
      "Best Parameters: {'C': 0.01, 'max_iter': 100, 'penalty': 'l1', 'solver': 'saga'}\n",
      "Grid Search Score: 0.5562544674767691\n",
      "Mean Cross-Validation Score: 0.55625\n",
      "--------------------------------------------------\n",
      "Major: business\n",
      "Best Parameters: {'C': 0.01, 'max_iter': 100, 'penalty': 'l1', 'solver': 'saga'}\n",
      "Grid Search Score: 0.5958041958041959\n",
      "Mean Cross-Validation Score: 0.5958\n",
      "--------------------------------------------------\n",
      "Major: compsci\n",
      "Best Parameters: {'C': 0.01, 'max_iter': 100, 'penalty': 'l1', 'solver': 'saga'}\n",
      "Grid Search Score: 0.7162410329985653\n",
      "Mean Cross-Validation Score: 0.71621\n",
      "--------------------------------------------------\n",
      "Major: engineering\n",
      "Best Parameters: {'C': 10, 'max_iter': 100, 'penalty': 'l1', 'solver': 'saga'}\n",
      "Grid Search Score: 0.6054407441533939\n",
      "Mean Cross-Validation Score: 0.60645\n",
      "--------------------------------------------------\n",
      "Major: law\n",
      "Best Parameters: {'C': 1, 'max_iter': 100, 'penalty': 'l2', 'solver': 'lbfgs'}\n",
      "Grid Search Score: 0.5959425521896091\n",
      "Mean Cross-Validation Score: 0.59523\n",
      "--------------------------------------------------\n",
      "Major: medical\n",
      "Best Parameters: {'C': 0.01, 'max_iter': 100, 'penalty': 'l1', 'solver': 'saga'}\n",
      "Grid Search Score: 0.6087782702579838\n",
      "Mean Cross-Validation Score: 0.60879\n",
      "--------------------------------------------------\n",
      "Major: others\n",
      "Best Parameters: {'C': 0.01, 'max_iter': 100, 'penalty': 'l2', 'solver': 'lbfgs'}\n",
      "Grid Search Score: 0.6036442430808628\n",
      "Mean Cross-Validation Score: 0.60363\n",
      "--------------------------------------------------\n"
     ]
    }
   ],
   "source": [
    "for result in results:\n",
    "    print(f\"Major: {result['major']}\")\n",
    "    print(f\"Best Parameters: {result['best_params']}\")\n",
    "    print(f\"Grid Search Score: {result['grid_search_score']}\")\n",
    "    print(f\"Mean Cross-Validation Score: {result['mean_cv_score']}\")\n",
    "    print(\"-\" * 50)"
   ]
  }
 ],
 "metadata": {
  "kernelspec": {
   "display_name": "tf2.10_env",
   "language": "python",
   "name": "python3"
  },
  "language_info": {
   "codemirror_mode": {
    "name": "ipython",
    "version": 3
   },
   "file_extension": ".py",
   "mimetype": "text/x-python",
   "name": "python",
   "nbconvert_exporter": "python",
   "pygments_lexer": "ipython3",
   "version": "3.9.20"
  }
 },
 "nbformat": 4,
 "nbformat_minor": 2
}
